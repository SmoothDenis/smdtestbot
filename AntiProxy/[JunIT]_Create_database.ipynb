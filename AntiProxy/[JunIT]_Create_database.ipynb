{
  "nbformat": 4,
  "nbformat_minor": 0,
  "metadata": {
    "colab": {
      "name": "[JunIT] Create database",
      "provenance": [],
      "collapsed_sections": []
    },
    "kernelspec": {
      "name": "python3",
      "display_name": "Python 3"
    },
    "language_info": {
      "name": "python"
    }
  },
  "cells": [
    {
      "cell_type": "markdown",
      "source": [
        "Код запроса на SQL\n",
        "\n"
      ],
      "metadata": {
        "id": "-Cg6GlbzEGEk"
      }
    },
    {
      "cell_type": "code",
      "execution_count": null,
      "metadata": {
        "id": "pYnUppynD8JL"
      },
      "outputs": [],
      "source": [
        "'''CREATE TABLE weather_log (\n",
        "  id_data INT GENERATED ALWAYS AS IDENTITY PRIMARY KEY,\n",
        "  detail VARCHAR,\n",
        "  temp INT,\n",
        "  tg_id INT,\n",
        "  \"time\" VARCHAR\n",
        ");'''"
      ]
    },
    {
      "cell_type": "markdown",
      "source": [
        "Ячейки ниже нужно запустить, подставив данные от своей БД"
      ],
      "metadata": {
        "id": "jJlpRxLWELq7"
      }
    },
    {
      "cell_type": "code",
      "source": [
        "pip install psycopg2-binary"
      ],
      "metadata": {
        "colab": {
          "base_uri": "https://localhost:8080/"
        },
        "id": "c73h9tpgFYv1",
        "outputId": "f21d7d15-4fe1-4c12-a7a0-4947f2e0ae79"
      },
      "execution_count": null,
      "outputs": [
        {
          "output_type": "stream",
          "name": "stdout",
          "text": [
            "Requirement already satisfied: psycopg2-binary in /usr/local/lib/python3.7/dist-packages (2.9.3)\n"
          ]
        }
      ]
    },
    {
      "cell_type": "code",
      "source": [
        "import psycopg2\n",
        "import datetime"
      ],
      "metadata": {
        "id": "VTtnDzdwEFzd"
      },
      "execution_count": null,
      "outputs": []
    },
    {
      "cell_type": "code",
      "source": [
        "DATABASE_URL = \"PASTE_URL_FROM_HEROKU\""
      ],
      "metadata": {
        "id": "YnS7KUP4EUjF"
      },
      "execution_count": null,
      "outputs": []
    },
    {
      "cell_type": "code",
      "source": [
        "# Connect to database\n",
        "try:\n",
        "    connection = psycopg2.connect(DATABASE_URL, sslmode=\"require\")\n",
        "    cursor = connection.cursor()\n",
        "\n",
        "    # Этот запрос нужен для начального создания базы данных\n",
        "    sql = \"\"\"CREATE TABLE weather_login (\n",
        "            id_data INT GENERATED ALWAYS AS IDENTITY PRIMARY KEY,\n",
        "            detail VARCHAR,\n",
        "            temp INT,\n",
        "            tg_id INT,\n",
        "            \"time\" VARCHAR\n",
        "            );\"\"\"\n",
        "\n",
        "    cursor.execute(sql)\n",
        "    # Конец первого запроса\n",
        "\n",
        "\n",
        "    # Этот запрос помещает в базу данных тестовую запись\n",
        "    postgres_insert_query = (\n",
        "        \"\"\"INSERT INTO weather_login (time, tg_id, temp, detail) VALUES (%s,%s,%s,%s)\"\"\"\n",
        "    )\n",
        "    record_to_insert = (datetime.datetime.now().strftime(\"%d-%m-%Y %H:%M\"), 145708128, (int(15.77) * 100 // 100), 'hello')\n",
        "    cursor.execute(postgres_insert_query, record_to_insert)\n",
        "\n",
        "    connection.commit()\n",
        "    count = cursor.rowcount\n",
        "    print(count, \"Record inserted successfully into weather_log table\")\n",
        "    # Конец второго запроса\n",
        "\n",
        "except (Exception, psycopg2.Error) as error:\n",
        "    print(\"Failed to insert record into weather_log table\", error)\n",
        "\n",
        "finally:\n",
        "    # closing database connection.\n",
        "    if connection:\n",
        "        cursor.close()\n",
        "        connection.close()\n",
        "        print(\"PostgreSQL connection is closed\")"
      ],
      "metadata": {
        "colab": {
          "base_uri": "https://localhost:8080/"
        },
        "id": "XXR9vwH5EZOD",
        "outputId": "45b30b26-0ae4-4afe-ac6e-f03ebe00a8db"
      },
      "execution_count": null,
      "outputs": [
        {
          "output_type": "stream",
          "name": "stdout",
          "text": [
            "1 Record inserted successfully into weather_log table\n",
            "PostgreSQL connection is closed\n"
          ]
        }
      ]
    }
  ]
}